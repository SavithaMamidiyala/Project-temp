{
 "cells": [
  {
   "cell_type": "code",
   "execution_count": 1,
   "metadata": {},
   "outputs": [],
   "source": [
    "import pandas as pd\n",
    "import dask.dataframe as dd"
   ]
  },
  {
   "cell_type": "code",
   "execution_count": 2,
   "metadata": {
    "slideshow": {
     "slide_type": "-"
    }
   },
   "outputs": [
    {
     "data": {
      "text/plain": [
       "ROW_ID          int64\n",
       "SUBJECT_ID      int64\n",
       "GENDER         object\n",
       "DOB            object\n",
       "DOD            object\n",
       "DOD_HOSP       object\n",
       "DOD_SSN        object\n",
       "EXPIRE_FLAG     int64\n",
       "dtype: object"
      ]
     },
     "execution_count": 2,
     "metadata": {},
     "output_type": "execute_result"
    }
   ],
   "source": [
    "variable = dd.read_csv(\"/Users/savitha/Desktop/PythonPractice/projectdata/PATIENTS.csv\")\n",
    "variable.dtypes"
   ]
  },
  {
   "cell_type": "code",
   "execution_count": 3,
   "metadata": {},
   "outputs": [
    {
     "data": {
      "text/plain": [
       "ROW_ID          int64\n",
       "SUBJECT_ID      int64\n",
       "HADM_ID       float64\n",
       "ITEMID          int64\n",
       "CHARTTIME      object\n",
       "VALUE          object\n",
       "VALUENUM      float64\n",
       "VALUEUOM       object\n",
       "FLAG           object\n",
       "dtype: object"
      ]
     },
     "execution_count": 3,
     "metadata": {},
     "output_type": "execute_result"
    }
   ],
   "source": [
    "variable1 = dd.read_csv(\"/Users/savitha/Desktop/PythonPractice/projectdata/LABEVENTS.csv\")\n",
    "variable1.dtypes"
   ]
  },
  {
   "cell_type": "code",
   "execution_count": 4,
   "metadata": {},
   "outputs": [
    {
     "data": {
      "text/plain": [
       "ROW_ID        int64\n",
       "SUBJECT_ID    int64\n",
       "HADM_ID       int64\n",
       "SEQ_NUM       int64\n",
       "ICD9_CODE     int64\n",
       "dtype: object"
      ]
     },
     "execution_count": 4,
     "metadata": {},
     "output_type": "execute_result"
    }
   ],
   "source": [
    "variable2 = dd.read_csv(\"/Users/savitha/Desktop/PythonPractice/projectdata/PROCEDURES_ICD.csv\")\n",
    "variable2.dtypes"
   ]
  },
  {
   "cell_type": "code",
   "execution_count": 5,
   "metadata": {},
   "outputs": [
    {
     "data": {
      "text/plain": [
       "ROW_ID                 int64\n",
       "SUBJECT_ID             int64\n",
       "HADM_ID                int64\n",
       "ICUSTAY_ID           float64\n",
       "STARTDATE             object\n",
       "ENDDATE               object\n",
       "DRUG_TYPE             object\n",
       "DRUG                  object\n",
       "DRUG_NAME_POE         object\n",
       "DRUG_NAME_GENERIC     object\n",
       "FORMULARY_DRUG_CD     object\n",
       "GSN                   object\n",
       "NDC                  float64\n",
       "PROD_STRENGTH         object\n",
       "DOSE_VAL_RX           object\n",
       "DOSE_UNIT_RX          object\n",
       "FORM_VAL_DISP         object\n",
       "FORM_UNIT_DISP        object\n",
       "ROUTE                 object\n",
       "dtype: object"
      ]
     },
     "execution_count": 5,
     "metadata": {},
     "output_type": "execute_result"
    }
   ],
   "source": [
    "variable3 = dd.read_csv(\"/Users/savitha/Desktop/PythonPractice/projectdata/PRESCRIPTIONS.csv\")\n",
    "variable3.dtypes"
   ]
  },
  {
   "cell_type": "code",
   "execution_count": 6,
   "metadata": {},
   "outputs": [
    {
     "data": {
      "text/plain": [
       "ROW_ID          int64\n",
       "SUBJECT_ID      int64\n",
       "HADM_ID         int64\n",
       "SEQ_NUM       float64\n",
       "ICD9_CODE      object\n",
       "dtype: object"
      ]
     },
     "execution_count": 6,
     "metadata": {},
     "output_type": "execute_result"
    }
   ],
   "source": [
    "variable4 = dd.read_csv(\"/Users/savitha/Desktop/PythonPractice/projectdata/DIAGNOSES_ICD.csv\")\n",
    "variable4.dtypes"
   ]
  },
  {
   "cell_type": "code",
   "execution_count": 7,
   "metadata": {},
   "outputs": [
    {
     "data": {
      "text/plain": [
       "ROW_ID         int64\n",
       "ITEMID         int64\n",
       "LABEL         object\n",
       "FLUID         object\n",
       "CATEGORY      object\n",
       "LOINC_CODE    object\n",
       "dtype: object"
      ]
     },
     "execution_count": 7,
     "metadata": {},
     "output_type": "execute_result"
    }
   ],
   "source": [
    "variable5 = dd.read_csv(\"/Users/savitha/Desktop/PythonPractice/projectdata/D_LABITEMS.csv\")\n",
    "variable5.dtypes"
   ]
  },
  {
   "cell_type": "code",
   "execution_count": 8,
   "metadata": {},
   "outputs": [
    {
     "data": {
      "text/plain": [
       "ROW_ID                   int64\n",
       "SUBJECT_ID               int64\n",
       "HADM_ID                  int64\n",
       "ADMITTIME               object\n",
       "DISCHTIME               object\n",
       "DEATHTIME               object\n",
       "ADMISSION_TYPE          object\n",
       "ADMISSION_LOCATION      object\n",
       "DISCHARGE_LOCATION      object\n",
       "INSURANCE               object\n",
       "LANGUAGE                object\n",
       "RELIGION                object\n",
       "MARITAL_STATUS          object\n",
       "ETHNICITY               object\n",
       "EDREGTIME               object\n",
       "EDOUTTIME               object\n",
       "DIAGNOSIS               object\n",
       "HOSPITAL_EXPIRE_FLAG     int64\n",
       "HAS_CHARTEVENTS_DATA     int64\n",
       "dtype: object"
      ]
     },
     "execution_count": 8,
     "metadata": {},
     "output_type": "execute_result"
    }
   ],
   "source": [
    "variable6 = dd.read_csv(\"/Users/savitha/Desktop/PythonPractice/projectdata/ADMISSIONS.csv\")\n",
    "variable6.dtypes"
   ]
  },
  {
   "cell_type": "code",
   "execution_count": 9,
   "metadata": {},
   "outputs": [
    {
     "data": {
      "text/plain": [
       "ROW_ID                      int64\n",
       "SUBJECT_ID                  int64\n",
       "HADM_ID                     int64\n",
       "SUBMIT_WARDID               int64\n",
       "SUBMIT_CAREUNIT            object\n",
       "CURR_WARDID                 int64\n",
       "CURR_CAREUNIT              object\n",
       "CALLOUT_WARDID              int64\n",
       "CALLOUT_SERVICE            object\n",
       "REQUEST_TELE                int64\n",
       "REQUEST_RESP                int64\n",
       "REQUEST_CDIFF               int64\n",
       "REQUEST_MRSA                int64\n",
       "REQUEST_VRE                 int64\n",
       "CALLOUT_STATUS             object\n",
       "CALLOUT_OUTCOME            object\n",
       "DISCHARGE_WARDID          float64\n",
       "ACKNOWLEDGE_STATUS         object\n",
       "CREATETIME                 object\n",
       "UPDATETIME                 object\n",
       "ACKNOWLEDGETIME            object\n",
       "OUTCOMETIME                object\n",
       "FIRSTRESERVATIONTIME       object\n",
       "CURRENTRESERVATIONTIME     object\n",
       "dtype: object"
      ]
     },
     "execution_count": 9,
     "metadata": {},
     "output_type": "execute_result"
    }
   ],
   "source": [
    "variable7 = dd.read_csv(\"/Users/savitha/Desktop/PythonPractice/projectdata/CALLOUT.csv\")\n",
    "variable7.dtypes"
   ]
  },
  {
   "cell_type": "code",
   "execution_count": 10,
   "metadata": {},
   "outputs": [
    {
     "data": {
      "text/plain": [
       "ROW_ID                             int64\n",
       "SUBJECT_ID                         int64\n",
       "HADM_ID                            int64\n",
       "ICUSTAY_ID                         int64\n",
       "STARTTIME                         object\n",
       "ENDTIME                           object\n",
       "ITEMID                             int64\n",
       "AMOUNT                           float64\n",
       "AMOUNTUOM                         object\n",
       "RATE                             float64\n",
       "RATEUOM                           object\n",
       "STORETIME                         object\n",
       "CGID                               int64\n",
       "ORDERID                            int64\n",
       "LINKORDERID                        int64\n",
       "ORDERCATEGORYNAME                 object\n",
       "SECONDARYORDERCATEGORYNAME        object\n",
       "ORDERCOMPONENTTYPEDESCRIPTION     object\n",
       "ORDERCATEGORYDESCRIPTION          object\n",
       "PATIENTWEIGHT                    float64\n",
       "TOTALAMOUNT                      float64\n",
       "TOTALAMOUNTUOM                    object\n",
       "ISOPENBAG                          int64\n",
       "CONTINUEINNEXTDEPT                 int64\n",
       "CANCELREASON                       int64\n",
       "STATUSDESCRIPTION                 object\n",
       "COMMENTS_EDITEDBY                 object\n",
       "COMMENTS_CANCELEDBY               object\n",
       "COMMENTS_DATE                     object\n",
       "ORIGINALAMOUNT                   float64\n",
       "ORIGINALRATE                     float64\n",
       "dtype: object"
      ]
     },
     "execution_count": 10,
     "metadata": {},
     "output_type": "execute_result"
    }
   ],
   "source": [
    "variable8 = dd.read_csv(\"/Users/savitha/Desktop/PythonPractice/projectdata/INPUTEVENTS_MV.csv\")\n",
    "variable8.dtypes"
   ]
  },
  {
   "cell_type": "code",
   "execution_count": 11,
   "metadata": {},
   "outputs": [
    {
     "data": {
      "text/plain": [
       "ROW_ID             int64\n",
       "SUBJECT_ID         int64\n",
       "HADM_ID            int64\n",
       "ICUSTAY_ID       float64\n",
       "DBSOURCE          object\n",
       "EVENTTYPE         object\n",
       "PREV_CAREUNIT     object\n",
       "CURR_CAREUNIT     object\n",
       "PREV_WARDID      float64\n",
       "CURR_WARDID      float64\n",
       "INTIME            object\n",
       "OUTTIME           object\n",
       "LOS              float64\n",
       "dtype: object"
      ]
     },
     "execution_count": 11,
     "metadata": {},
     "output_type": "execute_result"
    }
   ],
   "source": [
    "variable9 = dd.read_csv(\"/Users/savitha/Desktop/PythonPractice/projectdata/TRANSFERS.csv\")\n",
    "variable9.dtypes"
   ]
  },
  {
   "cell_type": "code",
   "execution_count": 12,
   "metadata": {},
   "outputs": [
    {
     "data": {
      "text/plain": [
       "Dask Series Structure:\n",
       "npartitions=1\n",
       "CHARTTIME    int64\n",
       "VALUEUOM       ...\n",
       "dtype: int64\n",
       "Dask Name: dataframe-count-agg, 117 tasks"
      ]
     },
     "execution_count": 12,
     "metadata": {},
     "output_type": "execute_result"
    }
   ],
   "source": [
    "variable1.count()"
   ]
  },
  {
   "cell_type": "code",
   "execution_count": 13,
   "metadata": {},
   "outputs": [
    {
     "data": {
      "text/plain": [
       "ROW_ID          int64\n",
       "SUBJECT_ID      int64\n",
       "HADM_ID       float64\n",
       "ITEMID          int64\n",
       "CHARTTIME      object\n",
       "VALUE          object\n",
       "VALUENUM      float64\n",
       "VALUEUOM       object\n",
       "FLAG           object\n",
       "dtype: object"
      ]
     },
     "execution_count": 13,
     "metadata": {},
     "output_type": "execute_result"
    }
   ],
   "source": [
    "variable1.dtypes"
   ]
  },
  {
   "cell_type": "code",
   "execution_count": 14,
   "metadata": {},
   "outputs": [],
   "source": [
    "#changing the datatype of HADM_ID from float to int\n",
    "variable1['HADM_ID'] = variable1.HADM_ID.fillna(0).astype(int)"
   ]
  },
  {
   "cell_type": "code",
   "execution_count": 15,
   "metadata": {},
   "outputs": [
    {
     "data": {
      "text/plain": [
       "ROW_ID          int64\n",
       "SUBJECT_ID      int64\n",
       "HADM_ID         int64\n",
       "ITEMID          int64\n",
       "CHARTTIME      object\n",
       "VALUE          object\n",
       "VALUENUM      float64\n",
       "VALUEUOM       object\n",
       "FLAG           object\n",
       "dtype: object"
      ]
     },
     "execution_count": 15,
     "metadata": {},
     "output_type": "execute_result"
    }
   ],
   "source": [
    "variable1.dtypes"
   ]
  },
  {
   "cell_type": "code",
   "execution_count": 62,
   "metadata": {},
   "outputs": [
    {
     "data": {
      "text/html": [
       "<div>\n",
       "<style scoped>\n",
       "    .dataframe tbody tr th:only-of-type {\n",
       "        vertical-align: middle;\n",
       "    }\n",
       "\n",
       "    .dataframe tbody tr th {\n",
       "        vertical-align: top;\n",
       "    }\n",
       "\n",
       "    .dataframe thead th {\n",
       "        text-align: right;\n",
       "    }\n",
       "</style>\n",
       "<table border=\"1\" class=\"dataframe\">\n",
       "  <thead>\n",
       "    <tr style=\"text-align: right;\">\n",
       "      <th></th>\n",
       "      <th>SUBJECT_ID</th>\n",
       "      <th>HADM_ID</th>\n",
       "      <th>num_lab_procedures</th>\n",
       "    </tr>\n",
       "  </thead>\n",
       "  <tbody>\n",
       "    <tr>\n",
       "      <th>0</th>\n",
       "      <td>2</td>\n",
       "      <td>163353</td>\n",
       "      <td>47</td>\n",
       "    </tr>\n",
       "    <tr>\n",
       "      <th>1</th>\n",
       "      <td>3</td>\n",
       "      <td>0</td>\n",
       "      <td>656</td>\n",
       "    </tr>\n",
       "    <tr>\n",
       "      <th>2</th>\n",
       "      <td>3</td>\n",
       "      <td>145834</td>\n",
       "      <td>1060</td>\n",
       "    </tr>\n",
       "    <tr>\n",
       "      <th>3</th>\n",
       "      <td>4</td>\n",
       "      <td>0</td>\n",
       "      <td>1409</td>\n",
       "    </tr>\n",
       "    <tr>\n",
       "      <th>4</th>\n",
       "      <td>4</td>\n",
       "      <td>185777</td>\n",
       "      <td>245</td>\n",
       "    </tr>\n",
       "  </tbody>\n",
       "</table>\n",
       "</div>"
      ],
      "text/plain": [
       "   SUBJECT_ID  HADM_ID  num_lab_procedures\n",
       "0           2   163353                  47\n",
       "1           3        0                 656\n",
       "2           3   145834                1060\n",
       "3           4        0                1409\n",
       "4           4   185777                 245"
      ]
     },
     "execution_count": 62,
     "metadata": {},
     "output_type": "execute_result"
    }
   ],
   "source": [
    "num_lab_proc_variable = variable1.groupby(['SUBJECT_ID','HADM_ID'])['ITEMID'].count().reset_index()\n",
    "#num_lab_proc_variable.count() # not working\n",
    "#len(num_lab_proc_variable)\n",
    "#num_lab_proc_variable.describe().columns\n",
    "num_lab_proc_variable = num_lab_proc_variable.rename(columns={'ITEMID':'num_lab_procedures'})\n",
    "num_lab_proc_variable.head()"
   ]
  },
  {
   "cell_type": "code",
   "execution_count": 19,
   "metadata": {},
   "outputs": [],
   "source": [
    "#df.HADM_ID.value_counts().reset_index(name='num_lab_procedures')"
   ]
  },
  {
   "cell_type": "code",
   "execution_count": 20,
   "metadata": {},
   "outputs": [],
   "source": [
    "#df.groupby([\"HADM_ID\"]).count().sort_values([\"ITEMID\"], \n",
    " #   ascending=False).rename(columns={\"ITEMID\" : \"num_lab_procedures\"}).reset_index()"
   ]
  },
  {
   "cell_type": "code",
   "execution_count": 21,
   "metadata": {},
   "outputs": [],
   "source": [
    "#df1 = pd.DataFrame(variable2)"
   ]
  },
  {
   "cell_type": "code",
   "execution_count": 63,
   "metadata": {},
   "outputs": [
    {
     "data": {
      "text/html": [
       "<div>\n",
       "<style scoped>\n",
       "    .dataframe tbody tr th:only-of-type {\n",
       "        vertical-align: middle;\n",
       "    }\n",
       "\n",
       "    .dataframe tbody tr th {\n",
       "        vertical-align: top;\n",
       "    }\n",
       "\n",
       "    .dataframe thead th {\n",
       "        text-align: right;\n",
       "    }\n",
       "</style>\n",
       "<table border=\"1\" class=\"dataframe\">\n",
       "  <thead>\n",
       "    <tr style=\"text-align: right;\">\n",
       "      <th></th>\n",
       "      <th>SUBJECT_ID</th>\n",
       "      <th>HADM_ID</th>\n",
       "      <th>num_procedures</th>\n",
       "    </tr>\n",
       "  </thead>\n",
       "  <tbody>\n",
       "    <tr>\n",
       "      <th>0</th>\n",
       "      <td>2</td>\n",
       "      <td>163353</td>\n",
       "      <td>1</td>\n",
       "    </tr>\n",
       "    <tr>\n",
       "      <th>1</th>\n",
       "      <td>3</td>\n",
       "      <td>145834</td>\n",
       "      <td>6</td>\n",
       "    </tr>\n",
       "    <tr>\n",
       "      <th>2</th>\n",
       "      <td>4</td>\n",
       "      <td>185777</td>\n",
       "      <td>3</td>\n",
       "    </tr>\n",
       "    <tr>\n",
       "      <th>3</th>\n",
       "      <td>5</td>\n",
       "      <td>178980</td>\n",
       "      <td>1</td>\n",
       "    </tr>\n",
       "    <tr>\n",
       "      <th>4</th>\n",
       "      <td>6</td>\n",
       "      <td>107064</td>\n",
       "      <td>5</td>\n",
       "    </tr>\n",
       "  </tbody>\n",
       "</table>\n",
       "</div>"
      ],
      "text/plain": [
       "   SUBJECT_ID  HADM_ID  num_procedures\n",
       "0           2   163353               1\n",
       "1           3   145834               6\n",
       "2           4   185777               3\n",
       "3           5   178980               1\n",
       "4           6   107064               5"
      ]
     },
     "execution_count": 63,
     "metadata": {},
     "output_type": "execute_result"
    }
   ],
   "source": [
    "num_proc_varible = variable2.groupby(['SUBJECT_ID','HADM_ID'])['ICD9_CODE'].count().reset_index()\n",
    "#num_proc_varible.count() # not working\n",
    "#len(num_proc_varible)\n",
    "#num_proc_varible.describe().columns\n",
    "num_proc_varible = num_proc_varible.rename(columns={'ICD9_CODE':'num_procedures'})\n",
    "num_proc_varible.head()"
   ]
  },
  {
   "cell_type": "code",
   "execution_count": 64,
   "metadata": {},
   "outputs": [
    {
     "data": {
      "text/html": [
       "<div>\n",
       "<style scoped>\n",
       "    .dataframe tbody tr th:only-of-type {\n",
       "        vertical-align: middle;\n",
       "    }\n",
       "\n",
       "    .dataframe tbody tr th {\n",
       "        vertical-align: top;\n",
       "    }\n",
       "\n",
       "    .dataframe thead th {\n",
       "        text-align: right;\n",
       "    }\n",
       "</style>\n",
       "<table border=\"1\" class=\"dataframe\">\n",
       "  <thead>\n",
       "    <tr style=\"text-align: right;\">\n",
       "      <th></th>\n",
       "      <th>ROW_ID</th>\n",
       "      <th>SUBJECT_ID</th>\n",
       "      <th>HADM_ID</th>\n",
       "      <th>ICUSTAY_ID</th>\n",
       "      <th>STARTDATE</th>\n",
       "      <th>ENDDATE</th>\n",
       "      <th>DRUG_TYPE</th>\n",
       "      <th>DRUG</th>\n",
       "      <th>DRUG_NAME_POE</th>\n",
       "      <th>DRUG_NAME_GENERIC</th>\n",
       "      <th>FORMULARY_DRUG_CD</th>\n",
       "      <th>GSN</th>\n",
       "      <th>NDC</th>\n",
       "      <th>PROD_STRENGTH</th>\n",
       "      <th>DOSE_VAL_RX</th>\n",
       "      <th>DOSE_UNIT_RX</th>\n",
       "      <th>FORM_VAL_DISP</th>\n",
       "      <th>FORM_UNIT_DISP</th>\n",
       "      <th>ROUTE</th>\n",
       "    </tr>\n",
       "  </thead>\n",
       "  <tbody>\n",
       "    <tr>\n",
       "      <th>0</th>\n",
       "      <td>2214776</td>\n",
       "      <td>6</td>\n",
       "      <td>107064</td>\n",
       "      <td>NaN</td>\n",
       "      <td>2175-06-11 00:00:00</td>\n",
       "      <td>2175-06-12 00:00:00</td>\n",
       "      <td>MAIN</td>\n",
       "      <td>Tacrolimus</td>\n",
       "      <td>Tacrolimus</td>\n",
       "      <td>Tacrolimus</td>\n",
       "      <td>TACR1</td>\n",
       "      <td>021796</td>\n",
       "      <td>469061711.0</td>\n",
       "      <td>1mg Capsule</td>\n",
       "      <td>2</td>\n",
       "      <td>mg</td>\n",
       "      <td>2</td>\n",
       "      <td>CAP</td>\n",
       "      <td>PO</td>\n",
       "    </tr>\n",
       "    <tr>\n",
       "      <th>1</th>\n",
       "      <td>2214775</td>\n",
       "      <td>6</td>\n",
       "      <td>107064</td>\n",
       "      <td>NaN</td>\n",
       "      <td>2175-06-11 00:00:00</td>\n",
       "      <td>2175-06-12 00:00:00</td>\n",
       "      <td>MAIN</td>\n",
       "      <td>Warfarin</td>\n",
       "      <td>Warfarin</td>\n",
       "      <td>Warfarin</td>\n",
       "      <td>WARF5</td>\n",
       "      <td>006562</td>\n",
       "      <td>56017275.0</td>\n",
       "      <td>5mg Tablet</td>\n",
       "      <td>5</td>\n",
       "      <td>mg</td>\n",
       "      <td>1</td>\n",
       "      <td>TAB</td>\n",
       "      <td>PO</td>\n",
       "    </tr>\n",
       "    <tr>\n",
       "      <th>2</th>\n",
       "      <td>2215524</td>\n",
       "      <td>6</td>\n",
       "      <td>107064</td>\n",
       "      <td>NaN</td>\n",
       "      <td>2175-06-11 00:00:00</td>\n",
       "      <td>2175-06-12 00:00:00</td>\n",
       "      <td>MAIN</td>\n",
       "      <td>Heparin Sodium</td>\n",
       "      <td>NaN</td>\n",
       "      <td>NaN</td>\n",
       "      <td>HEPAPREMIX</td>\n",
       "      <td>006522</td>\n",
       "      <td>338055002.0</td>\n",
       "      <td>25,000 unit Premix Bag</td>\n",
       "      <td>25,000</td>\n",
       "      <td>UNIT</td>\n",
       "      <td>1</td>\n",
       "      <td>BAG</td>\n",
       "      <td>IV</td>\n",
       "    </tr>\n",
       "    <tr>\n",
       "      <th>3</th>\n",
       "      <td>2216265</td>\n",
       "      <td>6</td>\n",
       "      <td>107064</td>\n",
       "      <td>NaN</td>\n",
       "      <td>2175-06-11 00:00:00</td>\n",
       "      <td>2175-06-12 00:00:00</td>\n",
       "      <td>BASE</td>\n",
       "      <td>D5W</td>\n",
       "      <td>NaN</td>\n",
       "      <td>NaN</td>\n",
       "      <td>HEPBASE</td>\n",
       "      <td>NaN</td>\n",
       "      <td>0.0</td>\n",
       "      <td>HEPARIN BASE</td>\n",
       "      <td>250</td>\n",
       "      <td>ml</td>\n",
       "      <td>250</td>\n",
       "      <td>ml</td>\n",
       "      <td>IV</td>\n",
       "    </tr>\n",
       "    <tr>\n",
       "      <th>4</th>\n",
       "      <td>2214773</td>\n",
       "      <td>6</td>\n",
       "      <td>107064</td>\n",
       "      <td>NaN</td>\n",
       "      <td>2175-06-11 00:00:00</td>\n",
       "      <td>2175-06-12 00:00:00</td>\n",
       "      <td>MAIN</td>\n",
       "      <td>Furosemide</td>\n",
       "      <td>Furosemide</td>\n",
       "      <td>Furosemide</td>\n",
       "      <td>FURO20</td>\n",
       "      <td>008208</td>\n",
       "      <td>54829725.0</td>\n",
       "      <td>20mg Tablet</td>\n",
       "      <td>20</td>\n",
       "      <td>mg</td>\n",
       "      <td>1</td>\n",
       "      <td>TAB</td>\n",
       "      <td>PO</td>\n",
       "    </tr>\n",
       "  </tbody>\n",
       "</table>\n",
       "</div>"
      ],
      "text/plain": [
       "    ROW_ID  SUBJECT_ID  HADM_ID  ICUSTAY_ID            STARTDATE  \\\n",
       "0  2214776           6   107064         NaN  2175-06-11 00:00:00   \n",
       "1  2214775           6   107064         NaN  2175-06-11 00:00:00   \n",
       "2  2215524           6   107064         NaN  2175-06-11 00:00:00   \n",
       "3  2216265           6   107064         NaN  2175-06-11 00:00:00   \n",
       "4  2214773           6   107064         NaN  2175-06-11 00:00:00   \n",
       "\n",
       "               ENDDATE DRUG_TYPE            DRUG DRUG_NAME_POE  \\\n",
       "0  2175-06-12 00:00:00      MAIN      Tacrolimus    Tacrolimus   \n",
       "1  2175-06-12 00:00:00      MAIN        Warfarin      Warfarin   \n",
       "2  2175-06-12 00:00:00      MAIN  Heparin Sodium           NaN   \n",
       "3  2175-06-12 00:00:00      BASE             D5W           NaN   \n",
       "4  2175-06-12 00:00:00      MAIN      Furosemide    Furosemide   \n",
       "\n",
       "  DRUG_NAME_GENERIC FORMULARY_DRUG_CD     GSN          NDC  \\\n",
       "0        Tacrolimus             TACR1  021796  469061711.0   \n",
       "1          Warfarin             WARF5  006562   56017275.0   \n",
       "2               NaN        HEPAPREMIX  006522  338055002.0   \n",
       "3               NaN           HEPBASE     NaN          0.0   \n",
       "4        Furosemide            FURO20  008208   54829725.0   \n",
       "\n",
       "            PROD_STRENGTH DOSE_VAL_RX DOSE_UNIT_RX FORM_VAL_DISP  \\\n",
       "0             1mg Capsule           2           mg             2   \n",
       "1              5mg Tablet           5           mg             1   \n",
       "2  25,000 unit Premix Bag      25,000         UNIT             1   \n",
       "3            HEPARIN BASE         250           ml           250   \n",
       "4             20mg Tablet          20           mg             1   \n",
       "\n",
       "  FORM_UNIT_DISP ROUTE  \n",
       "0            CAP    PO  \n",
       "1            TAB    PO  \n",
       "2            BAG    IV  \n",
       "3             ml    IV  \n",
       "4            TAB    PO  "
      ]
     },
     "execution_count": 64,
     "metadata": {},
     "output_type": "execute_result"
    }
   ],
   "source": [
    "variable3.head()"
   ]
  },
  {
   "cell_type": "code",
   "execution_count": 24,
   "metadata": {},
   "outputs": [],
   "source": [
    "#df2 = pd.DataFrame(variable3)"
   ]
  },
  {
   "cell_type": "code",
   "execution_count": 66,
   "metadata": {},
   "outputs": [
    {
     "name": "stderr",
     "output_type": "stream",
     "text": [
      "/Users/savitha/anaconda3/lib/python3.7/site-packages/dask/local.py:252: DtypeWarning: Columns (11) have mixed types. Specify dtype option on import or set low_memory=False.\n",
      "  args2 = [_execute_task(a, cache) for a in args]\n",
      "/Users/savitha/anaconda3/lib/python3.7/site-packages/dask/local.py:252: DtypeWarning: Columns (11) have mixed types. Specify dtype option on import or set low_memory=False.\n",
      "  args2 = [_execute_task(a, cache) for a in args]\n"
     ]
    },
    {
     "data": {
      "text/html": [
       "<div>\n",
       "<style scoped>\n",
       "    .dataframe tbody tr th:only-of-type {\n",
       "        vertical-align: middle;\n",
       "    }\n",
       "\n",
       "    .dataframe tbody tr th {\n",
       "        vertical-align: top;\n",
       "    }\n",
       "\n",
       "    .dataframe thead th {\n",
       "        text-align: right;\n",
       "    }\n",
       "</style>\n",
       "<table border=\"1\" class=\"dataframe\">\n",
       "  <thead>\n",
       "    <tr style=\"text-align: right;\">\n",
       "      <th></th>\n",
       "      <th>SUBJECT_ID</th>\n",
       "      <th>HADM_ID</th>\n",
       "      <th>DRUG</th>\n",
       "    </tr>\n",
       "  </thead>\n",
       "  <tbody>\n",
       "    <tr>\n",
       "      <th>0</th>\n",
       "      <td>2</td>\n",
       "      <td>163353</td>\n",
       "      <td>4</td>\n",
       "    </tr>\n",
       "    <tr>\n",
       "      <th>1</th>\n",
       "      <td>4</td>\n",
       "      <td>185777</td>\n",
       "      <td>59</td>\n",
       "    </tr>\n",
       "    <tr>\n",
       "      <th>2</th>\n",
       "      <td>6</td>\n",
       "      <td>107064</td>\n",
       "      <td>148</td>\n",
       "    </tr>\n",
       "    <tr>\n",
       "      <th>3</th>\n",
       "      <td>8</td>\n",
       "      <td>159514</td>\n",
       "      <td>4</td>\n",
       "    </tr>\n",
       "    <tr>\n",
       "      <th>4</th>\n",
       "      <td>9</td>\n",
       "      <td>150750</td>\n",
       "      <td>68</td>\n",
       "    </tr>\n",
       "  </tbody>\n",
       "</table>\n",
       "</div>"
      ],
      "text/plain": [
       "   SUBJECT_ID  HADM_ID  DRUG\n",
       "0           2   163353     4\n",
       "1           4   185777    59\n",
       "2           6   107064   148\n",
       "3           8   159514     4\n",
       "4           9   150750    68"
      ]
     },
     "execution_count": 66,
     "metadata": {},
     "output_type": "execute_result"
    }
   ],
   "source": [
    "num_med_variable = variable3.groupby(['SUBJECT_ID','HADM_ID'])['DRUG'].count().reset_index()\n",
    "#num_med_variable.count() # not working\n",
    "#len(num_med_variable)\n",
    "#num_med_variable.describe().columns\n",
    "num_med_variable = num_med_variable.rename(columns={'ICD9_CODE':'num_medications'})\n",
    "num_med_variable.head()"
   ]
  },
  {
   "cell_type": "code",
   "execution_count": 26,
   "metadata": {},
   "outputs": [],
   "source": [
    "#df3 = pd.DataFrame(variable4)"
   ]
  },
  {
   "cell_type": "code",
   "execution_count": 67,
   "metadata": {},
   "outputs": [
    {
     "data": {
      "text/html": [
       "<div>\n",
       "<style scoped>\n",
       "    .dataframe tbody tr th:only-of-type {\n",
       "        vertical-align: middle;\n",
       "    }\n",
       "\n",
       "    .dataframe tbody tr th {\n",
       "        vertical-align: top;\n",
       "    }\n",
       "\n",
       "    .dataframe thead th {\n",
       "        text-align: right;\n",
       "    }\n",
       "</style>\n",
       "<table border=\"1\" class=\"dataframe\">\n",
       "  <thead>\n",
       "    <tr style=\"text-align: right;\">\n",
       "      <th></th>\n",
       "      <th>SUBJECT_ID</th>\n",
       "      <th>number_diagnoses</th>\n",
       "    </tr>\n",
       "  </thead>\n",
       "  <tbody>\n",
       "    <tr>\n",
       "      <th>0</th>\n",
       "      <td>2</td>\n",
       "      <td>3</td>\n",
       "    </tr>\n",
       "    <tr>\n",
       "      <th>1</th>\n",
       "      <td>3</td>\n",
       "      <td>9</td>\n",
       "    </tr>\n",
       "    <tr>\n",
       "      <th>2</th>\n",
       "      <td>4</td>\n",
       "      <td>9</td>\n",
       "    </tr>\n",
       "    <tr>\n",
       "      <th>3</th>\n",
       "      <td>5</td>\n",
       "      <td>3</td>\n",
       "    </tr>\n",
       "    <tr>\n",
       "      <th>4</th>\n",
       "      <td>6</td>\n",
       "      <td>8</td>\n",
       "    </tr>\n",
       "  </tbody>\n",
       "</table>\n",
       "</div>"
      ],
      "text/plain": [
       "   SUBJECT_ID  number_diagnoses\n",
       "0           2                 3\n",
       "1           3                 9\n",
       "2           4                 9\n",
       "3           5                 3\n",
       "4           6                 8"
      ]
     },
     "execution_count": 67,
     "metadata": {},
     "output_type": "execute_result"
    }
   ],
   "source": [
    "number_diag_variable = variable4.groupby('SUBJECT_ID')['ICD9_CODE'].count().reset_index()\n",
    "#number_diag_variable.count() # not working\n",
    "#len(number_diag_variable)\n",
    "#number_diag_variable.describe().columns\n",
    "number_diag_variable = number_diag_variable.rename(columns={'ICD9_CODE':'number_diagnoses'})\n",
    "number_diag_variable.head()"
   ]
  },
  {
   "cell_type": "code",
   "execution_count": 28,
   "metadata": {},
   "outputs": [],
   "source": [
    "#df4 = pd.DataFrame(variable5)"
   ]
  },
  {
   "cell_type": "code",
   "execution_count": 90,
   "metadata": {},
   "outputs": [
    {
     "name": "stderr",
     "output_type": "stream",
     "text": [
      "/Users/savitha/anaconda3/lib/python3.7/site-packages/dask/dataframe/core.py:4382: UserWarning: Insufficient elements for `head`. 5 elements requested, only 3 elements available. Try passing larger `npartitions` to `head`.\n",
      "  warnings.warn(msg.format(n, len(r)))\n"
     ]
    },
    {
     "data": {
      "text/html": [
       "<div>\n",
       "<style scoped>\n",
       "    .dataframe tbody tr th:only-of-type {\n",
       "        vertical-align: middle;\n",
       "    }\n",
       "\n",
       "    .dataframe tbody tr th {\n",
       "        vertical-align: top;\n",
       "    }\n",
       "\n",
       "    .dataframe thead th {\n",
       "        text-align: right;\n",
       "    }\n",
       "</style>\n",
       "<table border=\"1\" class=\"dataframe\">\n",
       "  <thead>\n",
       "    <tr style=\"text-align: right;\">\n",
       "      <th></th>\n",
       "      <th>ROW_ID</th>\n",
       "      <th>ITEMID</th>\n",
       "      <th>LABEL</th>\n",
       "      <th>FLUID</th>\n",
       "      <th>CATEGORY</th>\n",
       "      <th>LOINC_CODE</th>\n",
       "    </tr>\n",
       "  </thead>\n",
       "  <tbody>\n",
       "    <tr>\n",
       "      <th>136</th>\n",
       "      <td>10</td>\n",
       "      <td>50809</td>\n",
       "      <td>Glucose</td>\n",
       "      <td>Blood</td>\n",
       "      <td>Blood Gas</td>\n",
       "      <td>2339-0</td>\n",
       "    </tr>\n",
       "    <tr>\n",
       "      <th>258</th>\n",
       "      <td>132</td>\n",
       "      <td>50931</td>\n",
       "      <td>Glucose</td>\n",
       "      <td>Blood</td>\n",
       "      <td>Chemistry</td>\n",
       "      <td>2345-7</td>\n",
       "    </tr>\n",
       "    <tr>\n",
       "      <th>677</th>\n",
       "      <td>678</td>\n",
       "      <td>51478</td>\n",
       "      <td>Glucose</td>\n",
       "      <td>Urine</td>\n",
       "      <td>Hematology</td>\n",
       "      <td>5792-7</td>\n",
       "    </tr>\n",
       "  </tbody>\n",
       "</table>\n",
       "</div>"
      ],
      "text/plain": [
       "     ROW_ID  ITEMID    LABEL  FLUID    CATEGORY LOINC_CODE\n",
       "136      10   50809  Glucose  Blood   Blood Gas     2339-0\n",
       "258     132   50931  Glucose  Blood   Chemistry     2345-7\n",
       "677     678   51478  Glucose  Urine  Hematology     5792-7"
      ]
     },
     "execution_count": 90,
     "metadata": {},
     "output_type": "execute_result"
    }
   ],
   "source": [
    "glu = variable5[variable5.LABEL == 'Glucose']\n",
    "glu.head()"
   ]
  },
  {
   "cell_type": "code",
   "execution_count": 70,
   "metadata": {},
   "outputs": [
    {
     "data": {
      "text/plain": [
       "ROW_ID         int64\n",
       "ITEMID         int64\n",
       "LABEL         object\n",
       "FLUID         object\n",
       "CATEGORY      object\n",
       "LOINC_CODE    object\n",
       "dtype: object"
      ]
     },
     "execution_count": 70,
     "metadata": {},
     "output_type": "execute_result"
    }
   ],
   "source": [
    "variable5.dtypes"
   ]
  },
  {
   "cell_type": "code",
   "execution_count": 103,
   "metadata": {},
   "outputs": [
    {
     "name": "stderr",
     "output_type": "stream",
     "text": [
      "/Users/savitha/anaconda3/lib/python3.7/site-packages/dask/dataframe/core.py:4382: UserWarning: Insufficient elements for `head`. 5 elements requested, only 1 elements available. Try passing larger `npartitions` to `head`.\n",
      "  warnings.warn(msg.format(n, len(r)))\n"
     ]
    },
    {
     "data": {
      "text/html": [
       "<div>\n",
       "<style scoped>\n",
       "    .dataframe tbody tr th:only-of-type {\n",
       "        vertical-align: middle;\n",
       "    }\n",
       "\n",
       "    .dataframe tbody tr th {\n",
       "        vertical-align: top;\n",
       "    }\n",
       "\n",
       "    .dataframe thead th {\n",
       "        text-align: right;\n",
       "    }\n",
       "</style>\n",
       "<table border=\"1\" class=\"dataframe\">\n",
       "  <thead>\n",
       "    <tr style=\"text-align: right;\">\n",
       "      <th></th>\n",
       "      <th>ROW_ID</th>\n",
       "      <th>ITEMID</th>\n",
       "      <th>LABEL</th>\n",
       "      <th>FLUID</th>\n",
       "      <th>CATEGORY</th>\n",
       "      <th>LOINC_CODE</th>\n",
       "    </tr>\n",
       "  </thead>\n",
       "  <tbody>\n",
       "    <tr>\n",
       "      <th>136</th>\n",
       "      <td>10</td>\n",
       "      <td>50809</td>\n",
       "      <td>Glucose</td>\n",
       "      <td>Blood</td>\n",
       "      <td>Blood Gas</td>\n",
       "      <td>2339-0</td>\n",
       "    </tr>\n",
       "  </tbody>\n",
       "</table>\n",
       "</div>"
      ],
      "text/plain": [
       "     ROW_ID  ITEMID    LABEL  FLUID   CATEGORY LOINC_CODE\n",
       "136      10   50809  Glucose  Blood  Blood Gas     2339-0"
      ]
     },
     "execution_count": 103,
     "metadata": {},
     "output_type": "execute_result"
    }
   ],
   "source": [
    "#Finding max_glu_serum itemid\n",
    "glu = variable5[variable5.LABEL == 'Glucose']\n",
    "glu_blood = glu[glu.FLUID == 'Blood']\n",
    "glu_blood_gas = glu_blood[glu_blood.CATEGORY == 'Blood Gas']\n",
    "glu_blood_gas.head()\n",
    "#df_glu_blood_gas = pd.DataFrame(glu_blood_gas)\n",
    "#max_glu_serum_variable = df.HADM_ID[df.ITEMID == glu_blood_gas].reset_index(name='number_diagnoses')\n",
    "#max_glu_serum_variable.head()"
   ]
  },
  {
   "cell_type": "code",
   "execution_count": 92,
   "metadata": {},
   "outputs": [
    {
     "data": {
      "text/plain": [
       "ROW_ID         int64\n",
       "ITEMID         int64\n",
       "LABEL         object\n",
       "FLUID         object\n",
       "CATEGORY      object\n",
       "LOINC_CODE    object\n",
       "dtype: object"
      ]
     },
     "execution_count": 92,
     "metadata": {},
     "output_type": "execute_result"
    }
   ],
   "source": [
    "glu_blood_gas.dtypes"
   ]
  },
  {
   "cell_type": "code",
   "execution_count": 105,
   "metadata": {},
   "outputs": [
    {
     "ename": "ValueError",
     "evalue": "Not all divisions are known, can't align partitions. Please use `set_index` to set the index.",
     "output_type": "error",
     "traceback": [
      "\u001b[0;31m---------------------------------------------------------------------------\u001b[0m",
      "\u001b[0;31mValueError\u001b[0m                                Traceback (most recent call last)",
      "\u001b[0;32m<ipython-input-105-529162dc2258>\u001b[0m in \u001b[0;36m<module>\u001b[0;34m\u001b[0m\n\u001b[1;32m      1\u001b[0m \u001b[0;31m#Finding max_glu_serum's itemid from D_LABITEMS in LABEVENTS and fetching HADM_ID\u001b[0m\u001b[0;34m\u001b[0m\u001b[0;34m\u001b[0m\u001b[0;34m\u001b[0m\u001b[0m\n\u001b[0;32m----> 2\u001b[0;31m \u001b[0mmax_glu_serum_temp\u001b[0m \u001b[0;34m=\u001b[0m \u001b[0mvariable1\u001b[0m\u001b[0;34m[\u001b[0m\u001b[0mvariable1\u001b[0m\u001b[0;34m[\u001b[0m\u001b[0;34m'ITEMID'\u001b[0m\u001b[0;34m]\u001b[0m \u001b[0;34m==\u001b[0m \u001b[0mglu_blood_gas\u001b[0m\u001b[0;34m[\u001b[0m\u001b[0;34m'ITEMID'\u001b[0m\u001b[0;34m]\u001b[0m\u001b[0;34m]\u001b[0m\u001b[0;34m\u001b[0m\u001b[0;34m\u001b[0m\u001b[0m\n\u001b[0m\u001b[1;32m      3\u001b[0m \u001b[0;31m#max_glu_serum_temp.head()\u001b[0m\u001b[0;34m\u001b[0m\u001b[0;34m\u001b[0m\u001b[0;34m\u001b[0m\u001b[0m\n\u001b[1;32m      4\u001b[0m \u001b[0mmax_glu_serum_temp\u001b[0m \u001b[0;34m=\u001b[0m \u001b[0mmax_glu_serum_temp\u001b[0m\u001b[0;34m.\u001b[0m\u001b[0mdrop_duplicates\u001b[0m\u001b[0;34m(\u001b[0m\u001b[0msubset\u001b[0m\u001b[0;34m=\u001b[0m\u001b[0;34m[\u001b[0m\u001b[0;34m'SUBJECT_ID'\u001b[0m\u001b[0;34m,\u001b[0m\u001b[0;34m'HADM_ID'\u001b[0m\u001b[0;34m]\u001b[0m\u001b[0;34m)\u001b[0m\u001b[0;34m\u001b[0m\u001b[0;34m\u001b[0m\u001b[0m\n\u001b[1;32m      5\u001b[0m \u001b[0;31m#max_glu_serum_temp.head()\u001b[0m\u001b[0;34m\u001b[0m\u001b[0;34m\u001b[0m\u001b[0;34m\u001b[0m\u001b[0m\n",
      "\u001b[0;32m~/anaconda3/lib/python3.7/site-packages/dask/dataframe/core.py\u001b[0m in \u001b[0;36m<lambda>\u001b[0;34m(self, other)\u001b[0m\n\u001b[1;32m   1175\u001b[0m             \u001b[0;32mreturn\u001b[0m \u001b[0;32mlambda\u001b[0m \u001b[0mself\u001b[0m\u001b[0;34m,\u001b[0m \u001b[0mother\u001b[0m\u001b[0;34m:\u001b[0m \u001b[0melemwise\u001b[0m\u001b[0;34m(\u001b[0m\u001b[0mop\u001b[0m\u001b[0;34m,\u001b[0m \u001b[0mother\u001b[0m\u001b[0;34m,\u001b[0m \u001b[0mself\u001b[0m\u001b[0;34m)\u001b[0m\u001b[0;34m\u001b[0m\u001b[0;34m\u001b[0m\u001b[0m\n\u001b[1;32m   1176\u001b[0m         \u001b[0;32melse\u001b[0m\u001b[0;34m:\u001b[0m\u001b[0;34m\u001b[0m\u001b[0;34m\u001b[0m\u001b[0m\n\u001b[0;32m-> 1177\u001b[0;31m             \u001b[0;32mreturn\u001b[0m \u001b[0;32mlambda\u001b[0m \u001b[0mself\u001b[0m\u001b[0;34m,\u001b[0m \u001b[0mother\u001b[0m\u001b[0;34m:\u001b[0m \u001b[0melemwise\u001b[0m\u001b[0;34m(\u001b[0m\u001b[0mop\u001b[0m\u001b[0;34m,\u001b[0m \u001b[0mself\u001b[0m\u001b[0;34m,\u001b[0m \u001b[0mother\u001b[0m\u001b[0;34m)\u001b[0m\u001b[0;34m\u001b[0m\u001b[0;34m\u001b[0m\u001b[0m\n\u001b[0m\u001b[1;32m   1178\u001b[0m \u001b[0;34m\u001b[0m\u001b[0m\n\u001b[1;32m   1179\u001b[0m     def rolling(self, window, min_periods=None, freq=None, center=False,\n",
      "\u001b[0;32m~/anaconda3/lib/python3.7/site-packages/dask/dataframe/core.py\u001b[0m in \u001b[0;36melemwise\u001b[0;34m(op, *args, **kwargs)\u001b[0m\n\u001b[1;32m   3281\u001b[0m \u001b[0;34m\u001b[0m\u001b[0m\n\u001b[1;32m   3282\u001b[0m     \u001b[0;32mfrom\u001b[0m \u001b[0;34m.\u001b[0m\u001b[0mmulti\u001b[0m \u001b[0;32mimport\u001b[0m \u001b[0m_maybe_align_partitions\u001b[0m\u001b[0;34m\u001b[0m\u001b[0;34m\u001b[0m\u001b[0m\n\u001b[0;32m-> 3283\u001b[0;31m     \u001b[0margs\u001b[0m \u001b[0;34m=\u001b[0m \u001b[0m_maybe_align_partitions\u001b[0m\u001b[0;34m(\u001b[0m\u001b[0margs\u001b[0m\u001b[0;34m)\u001b[0m\u001b[0;34m\u001b[0m\u001b[0;34m\u001b[0m\u001b[0m\n\u001b[0m\u001b[1;32m   3284\u001b[0m     \u001b[0mdasks\u001b[0m \u001b[0;34m=\u001b[0m \u001b[0;34m[\u001b[0m\u001b[0marg\u001b[0m \u001b[0;32mfor\u001b[0m \u001b[0marg\u001b[0m \u001b[0;32min\u001b[0m \u001b[0margs\u001b[0m \u001b[0;32mif\u001b[0m \u001b[0misinstance\u001b[0m\u001b[0;34m(\u001b[0m\u001b[0marg\u001b[0m\u001b[0;34m,\u001b[0m \u001b[0;34m(\u001b[0m\u001b[0m_Frame\u001b[0m\u001b[0;34m,\u001b[0m \u001b[0mScalar\u001b[0m\u001b[0;34m,\u001b[0m \u001b[0mArray\u001b[0m\u001b[0;34m)\u001b[0m\u001b[0;34m)\u001b[0m\u001b[0;34m]\u001b[0m\u001b[0;34m\u001b[0m\u001b[0;34m\u001b[0m\u001b[0m\n\u001b[1;32m   3285\u001b[0m     \u001b[0mdfs\u001b[0m \u001b[0;34m=\u001b[0m \u001b[0;34m[\u001b[0m\u001b[0mdf\u001b[0m \u001b[0;32mfor\u001b[0m \u001b[0mdf\u001b[0m \u001b[0;32min\u001b[0m \u001b[0mdasks\u001b[0m \u001b[0;32mif\u001b[0m \u001b[0misinstance\u001b[0m\u001b[0;34m(\u001b[0m\u001b[0mdf\u001b[0m\u001b[0;34m,\u001b[0m \u001b[0m_Frame\u001b[0m\u001b[0;34m)\u001b[0m\u001b[0;34m]\u001b[0m\u001b[0;34m\u001b[0m\u001b[0;34m\u001b[0m\u001b[0m\n",
      "\u001b[0;32m~/anaconda3/lib/python3.7/site-packages/dask/dataframe/multi.py\u001b[0m in \u001b[0;36m_maybe_align_partitions\u001b[0;34m(args)\u001b[0m\n\u001b[1;32m    145\u001b[0m     \u001b[0mdivisions\u001b[0m \u001b[0;34m=\u001b[0m \u001b[0mdfs\u001b[0m\u001b[0;34m[\u001b[0m\u001b[0;36m0\u001b[0m\u001b[0;34m]\u001b[0m\u001b[0;34m.\u001b[0m\u001b[0mdivisions\u001b[0m\u001b[0;34m\u001b[0m\u001b[0;34m\u001b[0m\u001b[0m\n\u001b[1;32m    146\u001b[0m     \u001b[0;32mif\u001b[0m \u001b[0;32mnot\u001b[0m \u001b[0mall\u001b[0m\u001b[0;34m(\u001b[0m\u001b[0mdf\u001b[0m\u001b[0;34m.\u001b[0m\u001b[0mdivisions\u001b[0m \u001b[0;34m==\u001b[0m \u001b[0mdivisions\u001b[0m \u001b[0;32mfor\u001b[0m \u001b[0mdf\u001b[0m \u001b[0;32min\u001b[0m \u001b[0mdfs\u001b[0m\u001b[0;34m)\u001b[0m\u001b[0;34m:\u001b[0m\u001b[0;34m\u001b[0m\u001b[0;34m\u001b[0m\u001b[0m\n\u001b[0;32m--> 147\u001b[0;31m         \u001b[0mdfs2\u001b[0m \u001b[0;34m=\u001b[0m \u001b[0miter\u001b[0m\u001b[0;34m(\u001b[0m\u001b[0malign_partitions\u001b[0m\u001b[0;34m(\u001b[0m\u001b[0;34m*\u001b[0m\u001b[0mdfs\u001b[0m\u001b[0;34m)\u001b[0m\u001b[0;34m[\u001b[0m\u001b[0;36m0\u001b[0m\u001b[0;34m]\u001b[0m\u001b[0;34m)\u001b[0m\u001b[0;34m\u001b[0m\u001b[0;34m\u001b[0m\u001b[0m\n\u001b[0m\u001b[1;32m    148\u001b[0m         \u001b[0;32mreturn\u001b[0m \u001b[0;34m[\u001b[0m\u001b[0ma\u001b[0m \u001b[0;32mif\u001b[0m \u001b[0;32mnot\u001b[0m \u001b[0misinstance\u001b[0m\u001b[0;34m(\u001b[0m\u001b[0ma\u001b[0m\u001b[0;34m,\u001b[0m \u001b[0m_Frame\u001b[0m\u001b[0;34m)\u001b[0m \u001b[0;32melse\u001b[0m \u001b[0mnext\u001b[0m\u001b[0;34m(\u001b[0m\u001b[0mdfs2\u001b[0m\u001b[0;34m)\u001b[0m \u001b[0;32mfor\u001b[0m \u001b[0ma\u001b[0m \u001b[0;32min\u001b[0m \u001b[0margs\u001b[0m\u001b[0;34m]\u001b[0m\u001b[0;34m\u001b[0m\u001b[0;34m\u001b[0m\u001b[0m\n\u001b[1;32m    149\u001b[0m     \u001b[0;32mreturn\u001b[0m \u001b[0margs\u001b[0m\u001b[0;34m\u001b[0m\u001b[0;34m\u001b[0m\u001b[0m\n",
      "\u001b[0;32m~/anaconda3/lib/python3.7/site-packages/dask/dataframe/multi.py\u001b[0m in \u001b[0;36malign_partitions\u001b[0;34m(*dfs)\u001b[0m\n\u001b[1;32m    101\u001b[0m         \u001b[0;32mraise\u001b[0m \u001b[0mValueError\u001b[0m\u001b[0;34m(\u001b[0m\u001b[0;34m\"dfs contains no DataFrame and Series\"\u001b[0m\u001b[0;34m)\u001b[0m\u001b[0;34m\u001b[0m\u001b[0;34m\u001b[0m\u001b[0m\n\u001b[1;32m    102\u001b[0m     \u001b[0;32mif\u001b[0m \u001b[0;32mnot\u001b[0m \u001b[0mall\u001b[0m\u001b[0;34m(\u001b[0m\u001b[0mdf\u001b[0m\u001b[0;34m.\u001b[0m\u001b[0mknown_divisions\u001b[0m \u001b[0;32mfor\u001b[0m \u001b[0mdf\u001b[0m \u001b[0;32min\u001b[0m \u001b[0mdfs1\u001b[0m\u001b[0;34m)\u001b[0m\u001b[0;34m:\u001b[0m\u001b[0;34m\u001b[0m\u001b[0;34m\u001b[0m\u001b[0m\n\u001b[0;32m--> 103\u001b[0;31m         raise ValueError(\"Not all divisions are known, can't align \"\n\u001b[0m\u001b[1;32m    104\u001b[0m                          \u001b[0;34m\"partitions. Please use `set_index` \"\u001b[0m\u001b[0;34m\u001b[0m\u001b[0;34m\u001b[0m\u001b[0m\n\u001b[1;32m    105\u001b[0m                          \"to set the index.\")\n",
      "\u001b[0;31mValueError\u001b[0m: Not all divisions are known, can't align partitions. Please use `set_index` to set the index."
     ]
    }
   ],
   "source": [
    "#Finding max_glu_serum's itemid from D_LABITEMS in LABEVENTS and fetching HADM_ID\n",
    "max_glu_serum_temp = variable1[variable1['ITEMID'] == int(glu_blood_gas['ITEMID'])]\n",
    "#max_glu_serum_temp.head()\n",
    "max_glu_serum_temp = max_glu_serum_temp.drop_duplicates(subset=['SUBJECT_ID','HADM_ID'])\n",
    "#max_glu_serum_temp.head()\n",
    "max_glu_serum_variable = max_glu_serum_temp.loc[:,['SUBJECT_ID','HADM_ID','ITEMID']]\n",
    "max_glu_serum_variable.rename(columns={'ITEMID':'max_glu_serum'}, inplace=True)\n",
    "#max_glu_serum_variable.columns\n",
    "max_glu_serum_variable.dtypes"
   ]
  },
  {
   "cell_type": "code",
   "execution_count": 34,
   "metadata": {},
   "outputs": [],
   "source": [
    "#Finding A1Cresult itemid\n",
    "A1Cresult = df4[df4.LABEL == '% Hemoglobin A1c']\n",
    "df_A1Cresult = pd.DataFrame(A1Cresult)\n",
    "#df_A1Cresult.head()"
   ]
  },
  {
   "cell_type": "code",
   "execution_count": 35,
   "metadata": {},
   "outputs": [
    {
     "data": {
      "text/html": [
       "<div>\n",
       "<style scoped>\n",
       "    .dataframe tbody tr th:only-of-type {\n",
       "        vertical-align: middle;\n",
       "    }\n",
       "\n",
       "    .dataframe tbody tr th {\n",
       "        vertical-align: top;\n",
       "    }\n",
       "\n",
       "    .dataframe thead th {\n",
       "        text-align: right;\n",
       "    }\n",
       "</style>\n",
       "<table border=\"1\" class=\"dataframe\">\n",
       "  <thead>\n",
       "    <tr style=\"text-align: right;\">\n",
       "      <th></th>\n",
       "      <th>SUBJECT_ID</th>\n",
       "      <th>HADM_ID</th>\n",
       "      <th>A1Cresult</th>\n",
       "    </tr>\n",
       "  </thead>\n",
       "  <tbody>\n",
       "    <tr>\n",
       "      <th>2494</th>\n",
       "      <td>4</td>\n",
       "      <td>0</td>\n",
       "      <td>50852</td>\n",
       "    </tr>\n",
       "    <tr>\n",
       "      <th>4409</th>\n",
       "      <td>9</td>\n",
       "      <td>150750</td>\n",
       "      <td>50852</td>\n",
       "    </tr>\n",
       "    <tr>\n",
       "      <th>7931</th>\n",
       "      <td>17</td>\n",
       "      <td>0</td>\n",
       "      <td>50852</td>\n",
       "    </tr>\n",
       "    <tr>\n",
       "      <th>8533</th>\n",
       "      <td>18</td>\n",
       "      <td>0</td>\n",
       "      <td>50852</td>\n",
       "    </tr>\n",
       "    <tr>\n",
       "      <th>10311</th>\n",
       "      <td>23</td>\n",
       "      <td>0</td>\n",
       "      <td>50852</td>\n",
       "    </tr>\n",
       "  </tbody>\n",
       "</table>\n",
       "</div>"
      ],
      "text/plain": [
       "       SUBJECT_ID  HADM_ID  A1Cresult\n",
       "2494            4        0      50852\n",
       "4409            9   150750      50852\n",
       "7931           17        0      50852\n",
       "8533           18        0      50852\n",
       "10311          23        0      50852"
      ]
     },
     "execution_count": 35,
     "metadata": {},
     "output_type": "execute_result"
    }
   ],
   "source": [
    "A1Cresult_temp = df[df['ITEMID'] == int(df_A1Cresult['ITEMID'])]\n",
    "#A1Cresult_temp\n",
    "A1Cresult_temp = A1Cresult_temp.drop_duplicates(subset=['SUBJECT_ID','HADM_ID'])\n",
    "#max_glu_serum_temp.head()\n",
    "A1Cresult_variable = A1Cresult_temp.loc[:,['SUBJECT_ID','HADM_ID','ITEMID']]\n",
    "A1Cresult_variable.rename(columns={'ITEMID':'A1Cresult'}, inplace=True)\n",
    "A1Cresult_variable.head()"
   ]
  },
  {
   "cell_type": "code",
   "execution_count": 36,
   "metadata": {},
   "outputs": [
    {
     "data": {
      "text/html": [
       "<div>\n",
       "<style scoped>\n",
       "    .dataframe tbody tr th:only-of-type {\n",
       "        vertical-align: middle;\n",
       "    }\n",
       "\n",
       "    .dataframe tbody tr th {\n",
       "        vertical-align: top;\n",
       "    }\n",
       "\n",
       "    .dataframe thead th {\n",
       "        text-align: right;\n",
       "    }\n",
       "</style>\n",
       "<table border=\"1\" class=\"dataframe\">\n",
       "  <thead>\n",
       "    <tr style=\"text-align: right;\">\n",
       "      <th></th>\n",
       "      <th>HADM_ID</th>\n",
       "      <th>GlyBURIDE</th>\n",
       "    </tr>\n",
       "  </thead>\n",
       "  <tbody>\n",
       "    <tr>\n",
       "      <th>1153</th>\n",
       "      <td>166707</td>\n",
       "      <td>GlyBURIDE</td>\n",
       "    </tr>\n",
       "    <tr>\n",
       "      <th>1188</th>\n",
       "      <td>166707</td>\n",
       "      <td>GlyBURIDE</td>\n",
       "    </tr>\n",
       "    <tr>\n",
       "      <th>10561</th>\n",
       "      <td>138528</td>\n",
       "      <td>Glyburide</td>\n",
       "    </tr>\n",
       "    <tr>\n",
       "      <th>13726</th>\n",
       "      <td>136614</td>\n",
       "      <td>GlyBURIDE</td>\n",
       "    </tr>\n",
       "    <tr>\n",
       "      <th>18033</th>\n",
       "      <td>135807</td>\n",
       "      <td>Glyburide</td>\n",
       "    </tr>\n",
       "  </tbody>\n",
       "</table>\n",
       "</div>"
      ],
      "text/plain": [
       "       HADM_ID  GlyBURIDE\n",
       "1153    166707  GlyBURIDE\n",
       "1188    166707  GlyBURIDE\n",
       "10561   138528  Glyburide\n",
       "13726   136614  GlyBURIDE\n",
       "18033   135807  Glyburide"
      ]
     },
     "execution_count": 36,
     "metadata": {},
     "output_type": "execute_result"
    }
   ],
   "source": [
    "#Finding glyburide drug from prescriptions.csv\n",
    "glyburide = df2[df2.DRUG.str.lower() == 'glyburide']\n",
    "#glyburide.head()\n",
    "df_glyburide = pd.DataFrame(glyburide.loc[:,['HADM_ID','DRUG']])\n",
    "df_glyburide.rename(columns={'DRUG':'GlyBURIDE'}, inplace=True)\n",
    "df_glyburide.head()"
   ]
  },
  {
   "cell_type": "code",
   "execution_count": 37,
   "metadata": {},
   "outputs": [
    {
     "data": {
      "text/html": [
       "<div>\n",
       "<style scoped>\n",
       "    .dataframe tbody tr th:only-of-type {\n",
       "        vertical-align: middle;\n",
       "    }\n",
       "\n",
       "    .dataframe tbody tr th {\n",
       "        vertical-align: top;\n",
       "    }\n",
       "\n",
       "    .dataframe thead th {\n",
       "        text-align: right;\n",
       "    }\n",
       "</style>\n",
       "<table border=\"1\" class=\"dataframe\">\n",
       "  <thead>\n",
       "    <tr style=\"text-align: right;\">\n",
       "      <th></th>\n",
       "      <th>HADM_ID</th>\n",
       "      <th>Metformin</th>\n",
       "    </tr>\n",
       "  </thead>\n",
       "  <tbody>\n",
       "    <tr>\n",
       "      <th>482</th>\n",
       "      <td>143045</td>\n",
       "      <td>Metformin</td>\n",
       "    </tr>\n",
       "    <tr>\n",
       "      <th>2744</th>\n",
       "      <td>190665</td>\n",
       "      <td>Metformin</td>\n",
       "    </tr>\n",
       "    <tr>\n",
       "      <th>9768</th>\n",
       "      <td>151583</td>\n",
       "      <td>Metformin</td>\n",
       "    </tr>\n",
       "    <tr>\n",
       "      <th>10434</th>\n",
       "      <td>151583</td>\n",
       "      <td>Metformin</td>\n",
       "    </tr>\n",
       "    <tr>\n",
       "      <th>16448</th>\n",
       "      <td>127976</td>\n",
       "      <td>Metformin</td>\n",
       "    </tr>\n",
       "  </tbody>\n",
       "</table>\n",
       "</div>"
      ],
      "text/plain": [
       "       HADM_ID  Metformin\n",
       "482     143045  Metformin\n",
       "2744    190665  Metformin\n",
       "9768    151583  Metformin\n",
       "10434   151583  Metformin\n",
       "16448   127976  Metformin"
      ]
     },
     "execution_count": 37,
     "metadata": {},
     "output_type": "execute_result"
    }
   ],
   "source": [
    "#Finding metformin drug from prescriptions.csv\n",
    "metformin = df2[df2.DRUG.str.lower() == 'metformin']\n",
    "#metformin.head()\n",
    "df_metformin = pd.DataFrame(metformin.loc[:,['HADM_ID','DRUG']])\n",
    "df_metformin.rename(columns={'DRUG':'Metformin'}, inplace=True)\n",
    "df_metformin.head()"
   ]
  },
  {
   "cell_type": "code",
   "execution_count": 38,
   "metadata": {},
   "outputs": [
    {
     "data": {
      "text/html": [
       "<div>\n",
       "<style scoped>\n",
       "    .dataframe tbody tr th:only-of-type {\n",
       "        vertical-align: middle;\n",
       "    }\n",
       "\n",
       "    .dataframe tbody tr th {\n",
       "        vertical-align: top;\n",
       "    }\n",
       "\n",
       "    .dataframe thead th {\n",
       "        text-align: right;\n",
       "    }\n",
       "</style>\n",
       "<table border=\"1\" class=\"dataframe\">\n",
       "  <thead>\n",
       "    <tr style=\"text-align: right;\">\n",
       "      <th></th>\n",
       "      <th>HADM_ID</th>\n",
       "      <th>pioglitazone</th>\n",
       "    </tr>\n",
       "  </thead>\n",
       "  <tbody>\n",
       "    <tr>\n",
       "      <th>288968</th>\n",
       "      <td>143224</td>\n",
       "      <td>Pioglitazone</td>\n",
       "    </tr>\n",
       "    <tr>\n",
       "      <th>290186</th>\n",
       "      <td>143224</td>\n",
       "      <td>Pioglitazone</td>\n",
       "    </tr>\n",
       "    <tr>\n",
       "      <th>290868</th>\n",
       "      <td>143224</td>\n",
       "      <td>Pioglitazone</td>\n",
       "    </tr>\n",
       "    <tr>\n",
       "      <th>589697</th>\n",
       "      <td>181880</td>\n",
       "      <td>Pioglitazone</td>\n",
       "    </tr>\n",
       "    <tr>\n",
       "      <th>1174274</th>\n",
       "      <td>114978</td>\n",
       "      <td>Pioglitazone</td>\n",
       "    </tr>\n",
       "  </tbody>\n",
       "</table>\n",
       "</div>"
      ],
      "text/plain": [
       "         HADM_ID  pioglitazone\n",
       "288968    143224  Pioglitazone\n",
       "290186    143224  Pioglitazone\n",
       "290868    143224  Pioglitazone\n",
       "589697    181880  Pioglitazone\n",
       "1174274   114978  Pioglitazone"
      ]
     },
     "execution_count": 38,
     "metadata": {},
     "output_type": "execute_result"
    }
   ],
   "source": [
    "#Finding pioglitazone drug from prescriptions.csv\n",
    "pioglitazone = df2[df2.DRUG.str.lower() == 'pioglitazone']\n",
    "#pioglitazone.head()\n",
    "df_pioglitazone = pd.DataFrame(pioglitazone.loc[:,['HADM_ID','DRUG']])\n",
    "df_pioglitazone.rename(columns={'DRUG':'pioglitazone'}, inplace=True)\n",
    "df_pioglitazone.head()"
   ]
  },
  {
   "cell_type": "code",
   "execution_count": 39,
   "metadata": {},
   "outputs": [
    {
     "data": {
      "text/html": [
       "<div>\n",
       "<style scoped>\n",
       "    .dataframe tbody tr th:only-of-type {\n",
       "        vertical-align: middle;\n",
       "    }\n",
       "\n",
       "    .dataframe tbody tr th {\n",
       "        vertical-align: top;\n",
       "    }\n",
       "\n",
       "    .dataframe thead th {\n",
       "        text-align: right;\n",
       "    }\n",
       "</style>\n",
       "<table border=\"1\" class=\"dataframe\">\n",
       "  <thead>\n",
       "    <tr style=\"text-align: right;\">\n",
       "      <th></th>\n",
       "      <th>HADM_ID</th>\n",
       "      <th>rosiglitazone</th>\n",
       "    </tr>\n",
       "  </thead>\n",
       "  <tbody>\n",
       "    <tr>\n",
       "      <th>24426</th>\n",
       "      <td>162308</td>\n",
       "      <td>Rosiglitazone Maleate</td>\n",
       "    </tr>\n",
       "    <tr>\n",
       "      <th>34284</th>\n",
       "      <td>116665</td>\n",
       "      <td>Rosiglitazone Maleate</td>\n",
       "    </tr>\n",
       "    <tr>\n",
       "      <th>39119</th>\n",
       "      <td>116665</td>\n",
       "      <td>Rosiglitazone Maleate</td>\n",
       "    </tr>\n",
       "    <tr>\n",
       "      <th>39316</th>\n",
       "      <td>116665</td>\n",
       "      <td>Rosiglitazone Maleate</td>\n",
       "    </tr>\n",
       "    <tr>\n",
       "      <th>47628</th>\n",
       "      <td>130310</td>\n",
       "      <td>Rosiglitazone Maleate</td>\n",
       "    </tr>\n",
       "  </tbody>\n",
       "</table>\n",
       "</div>"
      ],
      "text/plain": [
       "       HADM_ID          rosiglitazone\n",
       "24426   162308  Rosiglitazone Maleate\n",
       "34284   116665  Rosiglitazone Maleate\n",
       "39119   116665  Rosiglitazone Maleate\n",
       "39316   116665  Rosiglitazone Maleate\n",
       "47628   130310  Rosiglitazone Maleate"
      ]
     },
     "execution_count": 39,
     "metadata": {},
     "output_type": "execute_result"
    }
   ],
   "source": [
    "#Finding rosiglitazone drug from prescriptions.csv\n",
    "rosiglitazone = df2[df2.DRUG.str.lower() == 'rosiglitazone maleate']\n",
    "#rosiglitazone.head()\n",
    "df_rosiglitazone = pd.DataFrame(rosiglitazone.loc[:,['HADM_ID','DRUG']])\n",
    "df_rosiglitazone.rename(columns={'DRUG':'rosiglitazone'}, inplace=True)\n",
    "df_rosiglitazone.head()"
   ]
  },
  {
   "cell_type": "code",
   "execution_count": 40,
   "metadata": {},
   "outputs": [
    {
     "data": {
      "text/html": [
       "<div>\n",
       "<style scoped>\n",
       "    .dataframe tbody tr th:only-of-type {\n",
       "        vertical-align: middle;\n",
       "    }\n",
       "\n",
       "    .dataframe tbody tr th {\n",
       "        vertical-align: top;\n",
       "    }\n",
       "\n",
       "    .dataframe thead th {\n",
       "        text-align: right;\n",
       "    }\n",
       "</style>\n",
       "<table border=\"1\" class=\"dataframe\">\n",
       "  <thead>\n",
       "    <tr style=\"text-align: right;\">\n",
       "      <th></th>\n",
       "      <th>HADM_ID</th>\n",
       "      <th>insulin</th>\n",
       "    </tr>\n",
       "  </thead>\n",
       "  <tbody>\n",
       "    <tr>\n",
       "      <th>27</th>\n",
       "      <td>143045</td>\n",
       "      <td>Insulin</td>\n",
       "    </tr>\n",
       "    <tr>\n",
       "      <th>112</th>\n",
       "      <td>185777</td>\n",
       "      <td>Insulin</td>\n",
       "    </tr>\n",
       "    <tr>\n",
       "      <th>114</th>\n",
       "      <td>185777</td>\n",
       "      <td>Insulin</td>\n",
       "    </tr>\n",
       "    <tr>\n",
       "      <th>121</th>\n",
       "      <td>185777</td>\n",
       "      <td>Insulin</td>\n",
       "    </tr>\n",
       "    <tr>\n",
       "      <th>123</th>\n",
       "      <td>185777</td>\n",
       "      <td>Insulin</td>\n",
       "    </tr>\n",
       "  </tbody>\n",
       "</table>\n",
       "</div>"
      ],
      "text/plain": [
       "     HADM_ID  insulin\n",
       "27    143045  Insulin\n",
       "112   185777  Insulin\n",
       "114   185777  Insulin\n",
       "121   185777  Insulin\n",
       "123   185777  Insulin"
      ]
     },
     "execution_count": 40,
     "metadata": {},
     "output_type": "execute_result"
    }
   ],
   "source": [
    "#Finding insulin drug from prescriptions.csv\n",
    "insulin = df2[df2.DRUG.str.lower() == 'insulin']\n",
    "#insulin.head()\n",
    "df_insulin = pd.DataFrame(insulin.loc[:,['HADM_ID','DRUG']])\n",
    "df_insulin.rename(columns={'DRUG':'insulin'}, inplace=True)\n",
    "df_insulin.head()"
   ]
  },
  {
   "cell_type": "code",
   "execution_count": null,
   "metadata": {},
   "outputs": [],
   "source": []
  },
  {
   "cell_type": "code",
   "execution_count": 41,
   "metadata": {},
   "outputs": [],
   "source": [
    "#Finding patientweight from inputevents_mv.csv\n",
    "mrg6 = variable8.loc[:,['HADM_ID','PATIENTWEIGHT']]\n",
    "#mrg6.head()"
   ]
  },
  {
   "cell_type": "code",
   "execution_count": 42,
   "metadata": {},
   "outputs": [],
   "source": [
    "#Finding timeinhospital(LengthOfStay) from transfers.csv\n",
    "mrg8 = variable9.loc[:,['HADM_ID','LOS']]\n",
    "#mrg8.head()"
   ]
  },
  {
   "cell_type": "code",
   "execution_count": 43,
   "metadata": {},
   "outputs": [],
   "source": [
    "mrg1 = variable6.loc[:,['SUBJECT_ID','HADM_ID','ETHNICITY','ADMISSION_TYPE','ADMISSION_LOCATION',\n",
    "                        'INSURANCE','DIAGNOSIS','HOSPITAL_EXPIRE_FLAG']]\n",
    "#mrg1.head()\n",
    "mrg2 = variable7.loc[:,['HADM_ID','DISCHARGE_WARDID']]\n",
    "#mrg2.head()\n",
    "mrg3 = mrg1.merge(mrg2, on='HADM_ID', how='left')\n",
    "df_mrg = pd.DataFrame(mrg3)\n",
    "#df_mrg['SUBJECT_ID'] = df_mrg.SUBJECT_ID.fillna(0).astype(int)\n",
    "#df_mrg['HADM_ID'] = df_mrg.HADM_ID.fillna(0).astype(int)\n",
    "#df_mrg.dtypes\n",
    "mrg4 = variable.loc[:,['SUBJECT_ID','GENDER']]\n",
    "#mrg4.head()\n",
    "mrg5 = mrg3.merge(mrg4, on='SUBJECT_ID', how='left')\n",
    "#mrg5.dtypes"
   ]
  },
  {
   "cell_type": "code",
   "execution_count": 44,
   "metadata": {},
   "outputs": [],
   "source": [
    "mrg7 = mrg5.merge(mrg6, on='HADM_ID', how='left')\n",
    "#mrg7\n",
    "mrg9 = mrg7.merge(mrg8, on='HADM_ID', how='left')\n",
    "#mrg9\n",
    "mrg10 = mrg9.merge(num_lab_proc_variable, on='HADM_ID', how='left')\n",
    "#mrg10.head()\n",
    "mrg11 = mrg10.merge(num_proc_varible, on='HADM_ID', how='left')\n",
    "#mrg11.head()\n",
    "mrg12 = mrg11.merge(num_med_variable, on='HADM_ID', how='left')\n",
    "#mrg12.head()\n",
    "mrg13 = mrg12.merge(number_diag_variable, on='SUBJECT_ID', how='left')\n",
    "#mrg13.head()\n",
    "mrg14 = mrg13.merge(max_glu_serum_variable, on = ['SUBJECT_ID','HADM_ID'], how='right')\n",
    "#mrg14"
   ]
  },
  {
   "cell_type": "code",
   "execution_count": 45,
   "metadata": {},
   "outputs": [],
   "source": [
    "mrg15 = mrg14.merge(A1Cresult_variable, on = ['SUBJECT_ID','HADM_ID'], how='left')\n",
    "mrg16 = mrg15.merge(df_metformin, on = 'HADM_ID', how='left')\n",
    "#mrg16.count()"
   ]
  },
  {
   "cell_type": "code",
   "execution_count": 46,
   "metadata": {},
   "outputs": [],
   "source": [
    "mrg17 = mrg16.merge(df_glyburide, on = 'HADM_ID', how='left')\n",
    "#mrg17.count()"
   ]
  },
  {
   "cell_type": "code",
   "execution_count": 47,
   "metadata": {},
   "outputs": [],
   "source": [
    "mrg18 = mrg17.merge(df_pioglitazone, on = 'HADM_ID', how='left')\n",
    "#mrg18.count()"
   ]
  },
  {
   "cell_type": "code",
   "execution_count": 48,
   "metadata": {},
   "outputs": [],
   "source": [
    "mrg19 = mrg18.merge(df_rosiglitazone, on = 'HADM_ID', how='left')\n",
    "#mrg19.count()"
   ]
  },
  {
   "cell_type": "code",
   "execution_count": null,
   "metadata": {},
   "outputs": [],
   "source": [
    "mrg20 = mrg19.merge(df_insulin, on = 'HADM_ID', how='left')\n",
    "mrg20.count()"
   ]
  },
  {
   "cell_type": "code",
   "execution_count": null,
   "metadata": {},
   "outputs": [],
   "source": []
  }
 ],
 "metadata": {
  "celltoolbar": "Slideshow",
  "kernelspec": {
   "display_name": "Python 3",
   "language": "python",
   "name": "python3"
  },
  "language_info": {
   "codemirror_mode": {
    "name": "ipython",
    "version": 3
   },
   "file_extension": ".py",
   "mimetype": "text/x-python",
   "name": "python",
   "nbconvert_exporter": "python",
   "pygments_lexer": "ipython3",
   "version": "3.7.1"
  }
 },
 "nbformat": 4,
 "nbformat_minor": 2
}
